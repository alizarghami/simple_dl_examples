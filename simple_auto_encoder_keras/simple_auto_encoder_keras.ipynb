{
 "cells": [
  {
   "cell_type": "code",
   "execution_count": null,
   "metadata": {},
   "outputs": [],
   "source": [
    "from keras.datasets import fashion_mnist\n",
    "from keras.models import Sequential\n",
    "from keras.layers.core import Dense\n",
    "from keras.optimizers import Adam\n",
    "\n",
    "import matplotlib.pyplot as plt"
   ]
  },
  {
   "cell_type": "markdown",
   "metadata": {},
   "source": [
    "## Parameters"
   ]
  },
  {
   "cell_type": "code",
   "execution_count": null,
   "metadata": {},
   "outputs": [],
   "source": [
    "BATCH_SIZE = 1024\n",
    "EPOCHS = 20"
   ]
  },
  {
   "cell_type": "markdown",
   "metadata": {},
   "source": [
    "## Load dataset"
   ]
  },
  {
   "cell_type": "code",
   "execution_count": null,
   "metadata": {},
   "outputs": [],
   "source": [
    "(X_train, y_train), (X_test, y_test) = fashion_mnist.load_data()\n",
    "\n",
    "Z_train = X_train.reshape(-1, 784)\n",
    "Z_test = X_test.reshape(-1, 784)"
   ]
  },
  {
   "cell_type": "markdown",
   "metadata": {},
   "source": [
    "## Define the network"
   ]
  },
  {
   "cell_type": "code",
   "execution_count": null,
   "metadata": {},
   "outputs": [],
   "source": [
    "simple_auto_encoder = Sequential()\n",
    "\n",
    "simple_auto_encoder.add(Dense(512, activation='elu', input_shape=(784,)))\n",
    "simple_auto_encoder.add(Dense(128, activation='elu'))\n",
    "simple_auto_encoder.add(Dense(10, activation='linear', name='bottleneck'))\n",
    "simple_auto_encoder.add(Dense(128, activation='elu'))\n",
    "simple_auto_encoder.add(Dense(512, activation='elu'))\n",
    "simple_auto_encoder.add(Dense(784))\n",
    "\n",
    "simple_auto_encoder.compile(Adam(), loss='mean_squared_error')"
   ]
  },
  {
   "cell_type": "markdown",
   "metadata": {},
   "source": [
    "## Show image reconstruction before training"
   ]
  },
  {
   "cell_type": "code",
   "execution_count": null,
   "metadata": {},
   "outputs": [],
   "source": [
    "image = Z_test[0].reshape(28, 28)\n",
    "res = simple_auto_encoder.predict(Z_test[0].reshape(-1, 784))\n",
    "res = res.reshape(28, 28)\n",
    "\n",
    "fig1 = plt.figure('Before training')\n",
    "ax1 = fig1.add_subplot(1,2,1)\n",
    "ax1.imshow(image)\n",
    "ax2 = fig1.add_subplot(1,2,2)\n",
    "ax2.imshow(res)"
   ]
  },
  {
   "cell_type": "markdown",
   "metadata": {},
   "source": [
    "## Train the network"
   ]
  },
  {
   "cell_type": "code",
   "execution_count": null,
   "metadata": {},
   "outputs": [],
   "source": [
    "trained_model = simple_auto_encoder.fit(Z_train, Z_train, batch_size=BATCH_SIZE, epochs=EPOCHS, validation_data=(Z_test, Z_test))"
   ]
  },
  {
   "cell_type": "markdown",
   "metadata": {},
   "source": [
    "## Show image reconstruction after training"
   ]
  },
  {
   "cell_type": "code",
   "execution_count": null,
   "metadata": {},
   "outputs": [],
   "source": [
    "image = Z_test[0].reshape(28, 28)\n",
    "res = simple_auto_encoder.predict(Z_test[0].reshape(-1, 784))\n",
    "res = res.reshape(28, 28)\n",
    "\n",
    "fig2 = plt.figure('After training')\n",
    "ax1 = fig2.add_subplot(1,2,1)\n",
    "ax1.imshow(image)\n",
    "ax2 = fig2.add_subplot(1,2,2)\n",
    "ax2.imshow(res)"
   ]
  },
  {
   "cell_type": "code",
   "execution_count": null,
   "metadata": {},
   "outputs": [],
   "source": [
    "simple_auto_encoder.save('models/model.h5')"
   ]
  },
  {
   "cell_type": "code",
   "execution_count": null,
   "metadata": {},
   "outputs": [],
   "source": []
  }
 ],
 "metadata": {
  "kernelspec": {
   "display_name": "Python 3",
   "language": "python",
   "name": "python3"
  },
  "language_info": {
   "codemirror_mode": {
    "name": "ipython",
    "version": 3
   },
   "file_extension": ".py",
   "mimetype": "text/x-python",
   "name": "python",
   "nbconvert_exporter": "python",
   "pygments_lexer": "ipython3",
   "version": "3.7.7"
  }
 },
 "nbformat": 4,
 "nbformat_minor": 4
}
